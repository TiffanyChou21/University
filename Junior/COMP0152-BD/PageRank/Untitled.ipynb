{
 "cells": [
  {
   "cell_type": "code",
   "execution_count": 23,
   "metadata": {},
   "outputs": [
    {
     "name": "stdout",
     "output_type": "stream",
     "text": [
      "0.9999999999999661\n"
     ]
    }
   ],
   "source": [
    "import networkx as nx\n",
    "filename = 'WikiData.txt'\n",
    "G=nx.DiGraph()\n",
    "with open(filename) as file:\n",
    "    for line in file:\n",
    "        head, tail = [int(x) for x in line.split()]\n",
    "        G.add_edge(head,tail)\n",
    "pr=nx.pagerank(G,alpha=0.85)\n",
    "x = 0;\n",
    "for node, value in pr.items():\n",
    "    x = x + value\n",
    "print(x)"
   ]
  },
  {
   "cell_type": "code",
   "execution_count": 45,
   "metadata": {},
   "outputs": [
    {
     "name": "stdout",
     "output_type": "stream",
     "text": [
      "{'30': 0.00017349553934328362}{'1412': 0.0008141761230496596}{'3352': 0.0017851250122027215}{'5254': 0.0021500675059293235}{'5543': 0.0010508052619841281}{'7478': 0.0008124303526134783}{'3': 0.00020539498232448027}{'28': 0.0016986730322136937}{'39': 0.0003439790689580258}{'54': 0.0003476546497189804}{'108': 0.00043983711534545167}{'152': 0.0005817197428805893}{'178': 0.0002975848833195019}{'182': 0.00016083873728146711}{'214': 0.001659919966936546}{'271': 0.001334924091441659}{'286': 0.00017367757770305088}{'300': 0.00015065607046072738}{'348': 0.00017393564565284633}{'349': 9.460415271381965e-05}{'371': 0.00028929033923574956}{'567': 0.0003315269129516528}{'581': 0.00010905154270480285}{'584': 0.00022615441013923315}{'586': 0.0001051882501948107}{'590': 0.0001945807586420494}{'604': 0.00018151640169193395}{'611': 0.00021640905598463537}{'8283': 0.00032879238326170694}{'25': 5.0487823458630175e-05}{'6': 0.0003118325097843746}{'8': 0.00032663557615950447}{'19': 0.00013112179292607272}{'23': 0.00017122390637420355}{'29': 0.0001849098641574442}{'33': 0.0003386160040196027}{'35': 0.0007007673625519551}{'50': 0.00040784053278751834}{'55': 0.0009495051440874039}{'75': 0.000479382955791831}{'80': 0.00028310182856514435}{'86': 0.0008513640893173855}{'94': 0.0002738669766492547}{'127': 9.816867983077856e-05}{'154': 0.00011657540422981115}{'192': 0.00023696930657024582}{'224': 0.00010737291762504587}{'226': 0.00018632856798393789}{'246': 0.00013974646962163477}{'252': 0.00017693558073973996}{'255': 0.00016496664840568213}{'257': 0.0001766086459092997}{'261': 0.00014828212153625848}{'273': 0.00011576263040134172}{'280': 0.00021388151591968753}{'282': 0.0010828961137115452}{'299': 0.001111572236198922}{'302': 0.0001744848487526808}{'306': 9.712342096658831e-05}{'308': 0.00018140383955900965}{'310': 0.00028797910217706477}{'322': 0.0003099942822336477}{'325': 0.00020042296035987259}{'339': 0.00013270127106662595}{'356': 0.00035770673812582685}{'358': 0.00010765458423263139}{'363': 0.0002897276440484435}{'370': 0.00044807025055352667}{'373': 0.0001760431856926792}{'377': 0.00017137439056381863}{'379': 0.00010226684535647772}{'407': 0.0009321590642571341}{'415': 0.0003924598829695654}{'422': 0.00014939508244790064}{'428': 0.0001573639695912196}{'439': 0.000430292854569774}{'488': 0.00010721356495180243}{'514': 0.0002738836856963982}{'545': 0.00044268309340102}{'549': 0.0005821674764842345}{'560': 0.0004148131098210319}{'592': 0.000122367486614217}{'600': 0.0007331339106458746}{'645': 6.997563942485007e-05}{'650': 6.766389861048442e-05}{'659': 0.00020396625735167145}{'664': 0.00014705861862734077}{'667': 0.00042673136969066585}{'673': 0.00023324579985905075}{'675': 0.00011918372261819616}{'696': 0.0002827552343057352}{'706': 9.743865687052645e-05}{'723': 0.0001554563113522391}{'739': 0.0004863886423818306}{'756': 0.0005995918722902293}{'857': 0.0004792812490116652}{'864': 9.448462172656751e-05}{'893': 0.0003531787194821061}{'959': 0.000515772956788981}{'994': 0.00013485359193883613}{'1131': 0.00018425366268540162}\n"
     ]
    }
   ],
   "source": [
    "import networkx as nx\n",
    "import numpy as np\n",
    "def init_graph(file_path) :\n",
    "    graph=nx. DiGraph() \n",
    "    file = open(file_path,\"r\")\n",
    "    for line in open(\"WikiData.txt\"):\n",
    "        data = line.partition(\"\t\")\n",
    "        head = data[0]\n",
    "        tail = data[2]\n",
    "        graph.add_edge(head.strip(),tail.strip()) #将关系对加入图中\n",
    "    return graph\n",
    "\n",
    "G = init_graph(\"WikiData.txt\")\n",
    "pr=nx.pagerank (G,alpha=0.85) #计算pr\n",
    "result= {}\n",
    "for node, value in pr.items() :\n",
    "    result[node] = value\n",
    "sorted(result.items(),key=lambda item:item[1])\n",
    "for i,(k,v) in enumerate(result.items()):\n",
    "    print({k:v},end=\"\")\n",
    "    if i==100:\n",
    "        print()\n",
    "        break\n",
    "# print(result)"
   ]
  },
  {
   "cell_type": "code",
   "execution_count": 43,
   "metadata": {},
   "outputs": [
    {
     "ename": "AttributeError",
     "evalue": "'dict' object has no attribute 'edges'",
     "output_type": "error",
     "traceback": [
      "\u001b[0;31m---------------------------------------------------------------------------\u001b[0m",
      "\u001b[0;31mAttributeError\u001b[0m                            Traceback (most recent call last)",
      "\u001b[0;32m<ipython-input-43-74f31907a004>\u001b[0m in \u001b[0;36m<module>\u001b[0;34m\u001b[0m\n\u001b[0;32m----> 1\u001b[0;31m \u001b[0mnx\u001b[0m\u001b[0;34m.\u001b[0m\u001b[0mdraw_networkx\u001b[0m\u001b[0;34m(\u001b[0m\u001b[0mpr\u001b[0m\u001b[0;34m)\u001b[0m\u001b[0;34m\u001b[0m\u001b[0;34m\u001b[0m\u001b[0m\n\u001b[0m\u001b[1;32m      2\u001b[0m \u001b[0mplt\u001b[0m\u001b[0;34m.\u001b[0m\u001b[0mshow\u001b[0m\u001b[0;34m(\u001b[0m\u001b[0;34m)\u001b[0m\u001b[0;34m\u001b[0m\u001b[0;34m\u001b[0m\u001b[0m\n",
      "\u001b[0;32m/usr/local/lib/python3.7/site-packages/networkx/drawing/nx_pylab.py\u001b[0m in \u001b[0;36mdraw_networkx\u001b[0;34m(G, pos, arrows, with_labels, **kwds)\u001b[0m\n\u001b[1;32m    273\u001b[0m \u001b[0;34m\u001b[0m\u001b[0m\n\u001b[1;32m    274\u001b[0m     \u001b[0mnode_collection\u001b[0m \u001b[0;34m=\u001b[0m \u001b[0mdraw_networkx_nodes\u001b[0m\u001b[0;34m(\u001b[0m\u001b[0mG\u001b[0m\u001b[0;34m,\u001b[0m \u001b[0mpos\u001b[0m\u001b[0;34m,\u001b[0m \u001b[0;34m**\u001b[0m\u001b[0mkwds\u001b[0m\u001b[0;34m)\u001b[0m\u001b[0;34m\u001b[0m\u001b[0;34m\u001b[0m\u001b[0m\n\u001b[0;32m--> 275\u001b[0;31m     \u001b[0medge_collection\u001b[0m \u001b[0;34m=\u001b[0m \u001b[0mdraw_networkx_edges\u001b[0m\u001b[0;34m(\u001b[0m\u001b[0mG\u001b[0m\u001b[0;34m,\u001b[0m \u001b[0mpos\u001b[0m\u001b[0;34m,\u001b[0m \u001b[0marrows\u001b[0m\u001b[0;34m=\u001b[0m\u001b[0marrows\u001b[0m\u001b[0;34m,\u001b[0m \u001b[0;34m**\u001b[0m\u001b[0mkwds\u001b[0m\u001b[0;34m)\u001b[0m\u001b[0;34m\u001b[0m\u001b[0;34m\u001b[0m\u001b[0m\n\u001b[0m\u001b[1;32m    276\u001b[0m     \u001b[0;32mif\u001b[0m \u001b[0mwith_labels\u001b[0m\u001b[0;34m:\u001b[0m\u001b[0;34m\u001b[0m\u001b[0;34m\u001b[0m\u001b[0m\n\u001b[1;32m    277\u001b[0m         \u001b[0mdraw_networkx_labels\u001b[0m\u001b[0;34m(\u001b[0m\u001b[0mG\u001b[0m\u001b[0;34m,\u001b[0m \u001b[0mpos\u001b[0m\u001b[0;34m,\u001b[0m \u001b[0;34m**\u001b[0m\u001b[0mkwds\u001b[0m\u001b[0;34m)\u001b[0m\u001b[0;34m\u001b[0m\u001b[0;34m\u001b[0m\u001b[0m\n",
      "\u001b[0;32m/usr/local/lib/python3.7/site-packages/networkx/drawing/nx_pylab.py\u001b[0m in \u001b[0;36mdraw_networkx_edges\u001b[0;34m(G, pos, edgelist, width, edge_color, style, alpha, arrowstyle, arrowsize, edge_cmap, edge_vmin, edge_vmax, ax, arrows, label, node_size, nodelist, node_shape, connectionstyle, min_source_margin, min_target_margin, **kwds)\u001b[0m\n\u001b[1;32m    574\u001b[0m \u001b[0;34m\u001b[0m\u001b[0m\n\u001b[1;32m    575\u001b[0m     \u001b[0;32mif\u001b[0m \u001b[0medgelist\u001b[0m \u001b[0;32mis\u001b[0m \u001b[0;32mNone\u001b[0m\u001b[0;34m:\u001b[0m\u001b[0;34m\u001b[0m\u001b[0;34m\u001b[0m\u001b[0m\n\u001b[0;32m--> 576\u001b[0;31m         \u001b[0medgelist\u001b[0m \u001b[0;34m=\u001b[0m \u001b[0mlist\u001b[0m\u001b[0;34m(\u001b[0m\u001b[0mG\u001b[0m\u001b[0;34m.\u001b[0m\u001b[0medges\u001b[0m\u001b[0;34m(\u001b[0m\u001b[0;34m)\u001b[0m\u001b[0;34m)\u001b[0m\u001b[0;34m\u001b[0m\u001b[0;34m\u001b[0m\u001b[0m\n\u001b[0m\u001b[1;32m    577\u001b[0m \u001b[0;34m\u001b[0m\u001b[0m\n\u001b[1;32m    578\u001b[0m     \u001b[0;32mif\u001b[0m \u001b[0;32mnot\u001b[0m \u001b[0medgelist\u001b[0m \u001b[0;32mor\u001b[0m \u001b[0mlen\u001b[0m\u001b[0;34m(\u001b[0m\u001b[0medgelist\u001b[0m\u001b[0;34m)\u001b[0m \u001b[0;34m==\u001b[0m \u001b[0;36m0\u001b[0m\u001b[0;34m:\u001b[0m  \u001b[0;31m# no edges!\u001b[0m\u001b[0;34m\u001b[0m\u001b[0;34m\u001b[0m\u001b[0m\n",
      "\u001b[0;31mAttributeError\u001b[0m: 'dict' object has no attribute 'edges'"
     ]
    },
    {
     "data": {
      "image/png": "[encoded data removed]",
      "text/plain": [
       "<Figure size 432x288 with 1 Axes>"
      ]
     },
     "metadata": {},
     "output_type": "display_data"
    }
   ],
   "source": [
    "nx.draw_networkx(pr)\n",
    "plt.show()"
   ]
  },
  {
   "cell_type": "code",
   "execution_count": 81,
   "metadata": {},
   "outputs": [
    {
     "name": "stdout",
     "output_type": "stream",
     "text": [
      "8274 8297\n"
     ]
    }
   ],
   "source": [
    "import numpy as np\n",
    "x=0\n",
    "y=0\n",
    "for line in open(\"WikiData.txt\"):\n",
    "    data = line.partition(\"\t\") \n",
    "    head = int(data[0])\n",
    "    tail = int(data[2])\n",
    "    x=max(x,head)\n",
    "    y=max(y,tail) \n",
    "print(x , y)"
   ]
  },
  {
   "cell_type": "code",
   "execution_count": 86,
   "metadata": {},
   "outputs": [
    {
     "data": {
      "text/plain": [
       "array([(   2,   27), (   2,   29), (   2,   38), ..., (8271, 4939),\n",
       "       (8272, 4939), (8273, 8274)], dtype=[('from', '<i8'), ('to', '<i8')])"
      ]
     },
     "execution_count": 86,
     "metadata": {},
     "output_type": "execute_result"
    }
   ],
   "source": [
    "# 数据读入\n",
    "N=8297\n",
    "dt = np.dtype([('from', int), ('to', int)])\n",
    "A = np.empty((0), dtype=dt)\n",
    "for line in open(\"WikiData.txt\"):\n",
    "    head = int(line.split()[0])\n",
    "    tail = int(line.split()[1])\n",
    "    A = np.append(A, np.array([(head - 1, tail - 1)], dtype=dt))\n",
    "A = np.sort(A, order='from')\n",
    "A"
   ]
  },
  {
   "cell_type": "code",
   "execution_count": 88,
   "metadata": {},
   "outputs": [
    {
     "data": {
      "text/plain": [
       "2187"
      ]
     },
     "execution_count": 88,
     "metadata": {},
     "output_type": "execute_result"
    }
   ],
   "source": [
    "# dead ends\n",
    "w = np.zeros(N)\n",
    "for a in A:\n",
    "    w[a[0]] = 1\n",
    "np.size(np.where(w==0))"
   ]
  },
  {
   "cell_type": "code",
   "execution_count": 91,
   "metadata": {},
   "outputs": [
    {
     "data": {
      "text/plain": [
       "0"
      ]
     },
     "execution_count": 91,
     "metadata": {},
     "output_type": "execute_result"
    }
   ],
   "source": [
    "# spider trap\n",
    "u = np.zeros(N)\n",
    "for a in A:\n",
    "    if a[0]==a[1]:\n",
    "        u[[a[0]]]=1\n",
    "np.size(np.where(u==1))"
   ]
  },
  {
   "cell_type": "code",
   "execution_count": 46,
   "metadata": {},
   "outputs": [
    {
     "data": {
      "text/plain": [
       "array([(   2, 23), (   3, 28), (   4, 22), ..., (8270,  0), (8271,  0),\n",
       "       (8272,  0)], dtype=[('from', '<i8'), ('to', '<i8')])"
      ]
     },
     "execution_count": 46,
     "metadata": {},
     "output_type": "execute_result"
    }
   ],
   "source": [
    "A\n",
    "mm=A[0][0]\n",
    "sum=0\n",
    "B = np.empty((0), dtype=dt)\n",
    "for a in A:\n",
    "    if a[0]==mm:\n",
    "        sum+=1\n",
    "    else:\n",
    "        B = np.append(B, np.array([(mm, sum)], dtype=dt))\n",
    "        mm=a[0]\n",
    "        sum=0\n",
    "B"
   ]
  },
  {
   "cell_type": "code",
   "execution_count": null,
   "metadata": {},
   "outputs": [],
   "source": [
    "# import numpy as np    #C是trap\n",
    "M = [[0, 1/2,0, 1/2],\n",
    "     [1/3, 0, 0,1/2],\n",
    "     [1/3, 1/2, 1,0],\n",
    "     [1/3,0,0,0]]\n",
    "U = [1 / 4, 1 / 4, 1 / 4,1/4]\n",
    "U0 = np.array(U)\n",
    " \n",
    "U_past_none_alpha = []\n",
    "while True:\n",
    "    U = np.dot(M, U)\n",
    "    if str(U) == str(U_past_none_alpha):\n",
    "        break\n",
    "    U_past_none_alpha = U\n",
    "print('Un converge1 to: ', U)\n",
    " \n",
    "U_past_has_alpha = []\n",
    "while True:\n",
    "    U = 0.8 * (np.dot(M, U)) + 0.2 * U0\n",
    "    # print('Un: ', U)\n",
    "    if str(U) == str(U_past_has_alpha):\n",
    "        break\n",
    "    U_past_has_alpha = U\n",
    "print('Un converge2 to: ', U)"
   ]
  },
  {
   "cell_type": "code",
   "execution_count": 1,
   "metadata": {},
   "outputs": [
    {
     "name": "stderr",
     "output_type": "stream",
     "text": [
      "/usr/local/lib/python3.7/site-packages/ipykernel_launcher.py:59: DeprecationWarning: time.clock has been deprecated in Python 3.3 and will be removed from Python 3.8: use time.perf_counter or time.process_time instead\n"
     ]
    },
    {
     "name": "stdout",
     "output_type": "stream",
     "text": [
      "time cost:  29.905541 s\n"
     ]
    },
    {
     "name": "stderr",
     "output_type": "stream",
     "text": [
      "/usr/local/lib/python3.7/site-packages/ipykernel_launcher.py:66: DeprecationWarning: time.clock has been deprecated in Python 3.3 and will be removed from Python 3.8: use time.perf_counter or time.process_time instead\n"
     ]
    }
   ],
   "source": [
    "import numpy as np\n",
    "import time\n",
    "beta = 0.85\n",
    "threshold = 1.0e-8\n",
    "NUM = 8297\n",
    "\n",
    "\n",
    "def fun(r):\n",
    "    #数据读入，为处理稀疏矩阵，将各条边以点对的形式储存在A中\n",
    "    dt = np.dtype([('from', int), ('to', int)])\n",
    "    A = np.empty((0), dtype=dt)\n",
    "    for line in open(\"WikiData.txt\"):\n",
    "        data = line.partition(\"\t\")\n",
    "        x = int(data[0])\n",
    "        y = int(data[2])\n",
    "        A = np.append(A, np.array([(x - 1, y - 1)], dtype=dt))\n",
    "    #将边的集合A以出发点的序号排序便于后续计算\n",
    "    A = np.sort(A, order='from')\n",
    "    #利用w记录各点出度是否为零，便于发现dead end\n",
    "    w = np.zeros((NUM))\n",
    "    for a in A:\n",
    "        w[a[0]] = 1\n",
    "    v_new = np.ones(NUM) * 1 / NUM\n",
    "    v_old = v_new\n",
    "    B = v_new\n",
    "    rank = 1\n",
    "    #当前后两次的各点的value值的距离和小于阈值threshold或迭代次数大于r时结束迭代\n",
    "    while ((np.sum(np.abs(v_new - v_old)) > threshold or rank == 1) and rank<r):\n",
    "        v_old = v_new\n",
    "        x_old = A[0]\n",
    "        start = end = 0\n",
    "        v_new = np.zeros(NUM)\n",
    "        for x in A:\n",
    "            #对于从同一点出发的边统一处理，仅需从A中读取从某一点出发的所有边即可，实现了分块矩阵\n",
    "            if (x[0] != x_old[0]):\n",
    "                for i in range(start, end):\n",
    "                    v_new[A[i][1]] += v_old[x_old[0]] / (end - start)\n",
    "                start = end\n",
    "                x_old = x\n",
    "                end += 1\n",
    "            else:\n",
    "                end += 1\n",
    "        index = 0\n",
    "        sum = 0\n",
    "        #对于dead end进行random teleport\n",
    "        for x in w:\n",
    "            if (x == 0):\n",
    "                sum += v_old[index]\n",
    "                index += 1\n",
    "            else:\n",
    "                index += 1\n",
    "        v_new += sum * np.ones(NUM) * 1 / NUM\n",
    "        v_new = beta * v_new + (1 - beta) * B\n",
    "        rank += 1\n",
    "    return rank, v_new\n",
    "\n",
    "\n",
    "if __name__ == \"__main__\":\n",
    "    start = time.clock()\n",
    "    rank, v = fun(100)\n",
    "    v /= np.sum(v)\n",
    "    w = np.argsort(-v)\n",
    "    f = open(\"optimize_result.txt\", \"w\")\n",
    "    for i in range(100):\n",
    "        f.writelines(str(w[i]+1)+' '+str(v[w[i]])+'\\n')\n",
    "    end = time.clock()\n",
    "    print('time cost: ', str(end - start), 's')"
   ]
  },
  {
   "cell_type": "code",
   "execution_count": null,
   "metadata": {},
   "outputs": [],
   "source": [
    "# 也许可以用来验证？\n",
    "from PageRank import PageRanker\n",
    "web = ((0, 1, 0, 0),\n",
    "       (0, 0, 1, 0),\n",
    "       (0, 0, 0, 1),\n",
    "       (1, 0, 0, 0))\n",
    "\n",
    "pr = PageRanker(0.85, web)\n",
    "pr.improve_guess(100)\n",
    "print(pr.getPageRank())"
   ]
  },
  {
   "cell_type": "code",
   "execution_count": 5,
   "metadata": {},
   "outputs": [
    {
     "name": "stderr",
     "output_type": "stream",
     "text": [
      "/usr/local/lib/python3.7/site-packages/ipykernel_launcher.py:141: DeprecationWarning: time.clock has been deprecated in Python 3.3 and will be removed from Python 3.8: use time.perf_counter or time.process_time instead\n"
     ]
    },
    {
     "name": "stdout",
     "output_type": "stream",
     "text": [
      "4037 0.004607173541274757\n",
      "15 0.0036798641241363272\n",
      "6634 0.003586847882692001\n",
      "2625 0.0032836563440502785\n",
      "2398 0.00260863538954167\n",
      "2470 0.002523771817886781\n",
      "2237 0.0024966268820258764\n",
      "4191 0.0022678518354148237\n",
      "7553 0.0021697304211384686\n",
      "5254 0.002150100577929687\n",
      "2328 0.0020392599534253416\n",
      "1186 0.002035534199573073\n",
      "1297 0.0019458409158446925\n",
      "4335 0.0019367624361138894\n",
      "7620 0.0019320804227969835\n",
      "5412 0.0019189157844738758\n",
      "7632 0.0019077424025526243\n",
      "4875 0.0018738133405806533\n",
      "6946 0.001808421316008189\n",
      "3352 0.0017839563628371292\n",
      "6832 0.0017681829612740372\n",
      "2654 0.0017669820285580794\n",
      "762 0.0017421460312599976\n",
      "737 0.0017396339560050952\n",
      "2066 0.0017156986026309483\n",
      "8293 0.0017053078184470958\n",
      "3089 0.0017020103760858913\n",
      "28 0.001688809969596617\n",
      "2535 0.0016662038448303678\n",
      "3334 0.001656961023333257\n",
      "214 0.0016515170494281744\n",
      "665 0.0016430660842306074\n",
      "4735 0.0016192033740266472\n",
      "6774 0.001614888022031493\n",
      "7092 0.0016016276735803144\n",
      "2565 0.0015511786522135714\n",
      "5484 0.0015430211797180045\n",
      "8042 0.001476800977222003\n",
      "4310 0.0014619977004505108\n",
      "5423 0.001417625426068946\n",
      "1211 0.001417580599627074\n",
      "3456 0.0014168671928819546\n",
      "2657 0.001365191656323992\n",
      "5404 0.0013639541906892941\n",
      "5233 0.0013617836226362246\n",
      "4712 0.0013418884950684629\n",
      "271 0.001326259372052897\n",
      "4828 0.0013006247891935228\n",
      "5079 0.0012991644029386336\n",
      "4261 0.0012857557179177502\n",
      "5210 0.001280290547193857\n",
      "8163 0.0012632543259597907\n",
      "6914 0.0012605085134375573\n",
      "3459 0.0012573159371881526\n",
      "2285 0.00124166333085249\n",
      "1549 0.001241509024530282\n",
      "1842 0.0012351880808732418\n",
      "4666 0.0012119311426972814\n",
      "993 0.0012002488181067595\n",
      "3084 0.0011834824833264275\n",
      "3562 0.0011781937455559671\n",
      "1026 0.001172880298258091\n",
      "5123 0.001164880985915321\n",
      "2958 0.0011589311493558827\n",
      "3537 0.0011443099981622272\n",
      "3117 0.0011438048556276044\n",
      "2576 0.0011400396740859646\n",
      "2643 0.0011212074411687905\n",
      "922 0.001110051950450159\n",
      "5022 0.0011079361434578093\n",
      "299 0.0011040604216972475\n",
      "1855 0.0011014721013516008\n",
      "3897 0.0010990501825104094\n",
      "2651 0.0010987195668152082\n",
      "4110 0.001096481560304768\n",
      "282 0.0010748237027937658\n",
      "4600 0.0010704636763158252\n",
      "1031 0.0010692170514968171\n",
      "4687 0.0010684695883300679\n",
      "7699 0.0010653441380746391\n",
      "4536 0.0010645072911971871\n",
      "2871 0.0010640224806674002\n",
      "2746 0.0010638401513547102\n",
      "3443 0.0010627019885769942\n",
      "3755 0.0010613665947144394\n",
      "1385 0.0010594032115095779\n",
      "3568 0.0010517080966208887\n",
      "5459 0.001049621805430885\n",
      "5543 0.0010491099765953488\n",
      "4400 0.0010431840274635696\n",
      "2485 0.0010295535087824473\n",
      "1633 0.0010171359262221079\n",
      "7890 0.0010142034320802888\n",
      "3976 0.001012960814512072\n",
      "4256 0.0010115931630326873\n",
      "1726 0.0009963577683094608\n",
      "3238 0.000990669130796799\n",
      "2323 0.0009867489338935473\n",
      "6784 0.0009820999116124532\n",
      "3034 0.0009789956749391292\n",
      "time cost:  13.466139000000002 s\n"
     ]
    },
    {
     "name": "stderr",
     "output_type": "stream",
     "text": [
      "/usr/local/lib/python3.7/site-packages/ipykernel_launcher.py:143: DeprecationWarning: time.clock has been deprecated in Python 3.3 and will be removed from Python 3.8: use time.perf_counter or time.process_time instead\n"
     ]
    }
   ],
   "source": [
    "import numpy as np\n",
    "import time\n",
    "import os\n",
    "\n",
    "class page_rank():\n",
    "    def __init__(self):\n",
    "        self.input_path = 'WikiData.txt'\n",
    "        os.mkdir(\"./output/\")\n",
    "        self.block_base_path = 'output/'\n",
    "    # 分块数据读取\n",
    "    def load_data(self, path):\n",
    "        f = open(path, 'r')\n",
    "        data = []\n",
    "        for line in f:\n",
    "            x=int(line.split()[0])\n",
    "            y=int(line.split()[1])\n",
    "            data.append([x, y])\n",
    "        f.close()\n",
    "        return data\n",
    "    \n",
    "    # 以稀疏形式保存,只存储非零链接\n",
    "    def get_edges(self, data, nodemap):\n",
    "        data = np.array(data)\n",
    "        edges = np.zeros(data.shape)\n",
    "        for i in range(len(data)):\n",
    "            edges[i] = [nodemap[data[i][0]], nodemap[data[i][1]]]\n",
    "        return edges\n",
    "\n",
    "    # 数据分块保存到output, 返回分块文件数\n",
    "    def divide_data(self, block_size)->int:\n",
    "        inputfile = open(self.input_path, 'r')\n",
    "        count = 0\n",
    "        file_index = 0\n",
    "        dest_file = None\n",
    "        for line in inputfile:\n",
    "            if count % block_size == 0:\n",
    "                if dest_file:\n",
    "                    dest_file.close()\n",
    "                dest_file = open(self.block_base_path + str(file_index) + '.txt', 'w')\n",
    "                file_index += 1\n",
    "            dest_file.write(line)\n",
    "            count += 1\n",
    "        return file_index\n",
    "\n",
    "    # 获取数据中Node、最大NodeID\n",
    "    def get_Info(self, num):\n",
    "        node = []\n",
    "        max_node = 0\n",
    "        for i in range(num):\n",
    "            filename = self.block_base_path + str(i) + '.txt'\n",
    "            f = open(filename, 'r')\n",
    "            for line in f:\n",
    "                x, y = line.split()\n",
    "                max_node=max(max_node,max(int(x),int(y)))\n",
    "                node.append(int(x))\n",
    "                node.append(int(y))\n",
    "            f.close()\n",
    "        # 去重\n",
    "        node = list(set(node))\n",
    "        return node, max_node\n",
    "\n",
    "    # 节点映射及r向量初值\n",
    "    def preprocess(self, node, max_node):\n",
    "        nodemap = [0 for i in range(max_node + 1)]\n",
    "        for i in range(len(node)):\n",
    "            nodemap[node[i]] = i\n",
    "        # 初始化page_rank向量\n",
    "        r = [1.0 / len(node) for i in range(len(node))]\n",
    "        return nodemap, r\n",
    "\n",
    "    # 各节点出度\n",
    "    def get_out_degree(self, num, node, nodemap):\n",
    "        out = [0 for i in range(len(node))]\n",
    "        for i in range(num):\n",
    "            block = self.block_base_path + str(i) + '.txt'\n",
    "            f = open(block, 'r')\n",
    "            for line in f:\n",
    "                index = int(line.split()[0])\n",
    "                index = nodemap[index]\n",
    "                out[index] += 1\n",
    "        return out\n",
    "\n",
    "    # pagerank\n",
    "    def block_stripe_page_rank(self, num, node, nodemap, r, out, beta, threshold):\n",
    "        r_old = r\n",
    "        while True:\n",
    "            r_new = [0 for i in range(len(node))]\n",
    "            # 分块读取数据构成分块矩阵\n",
    "            for i in range(num):\n",
    "                block = self.block_base_path + str(i) + '.txt'\n",
    "                data = self.load_data(block)\n",
    "                edges = self.get_edges(data, nodemap)\n",
    "                for edge in edges:\n",
    "                    r_new[int(edge[1])] += r_old[int(edge[0])] * beta / out[int(edge[0])]\n",
    "            r_sum = sum(r_new) # 对应相加得到一轮迭代的r向量\n",
    "            r_sub = np.ones(len(node)) * (1 - r_sum) / len(node) # rnew=rnew'+(1-S)/N\n",
    "            r_cur = r_new + r_sub\n",
    "            s = np.sqrt(sum((r_cur - r_old) ** 2)) # 验证是否到收敛\n",
    "            # 单次迭代改变值小于threshold时,判断收敛,结束循环\n",
    "            if s <= threshold:\n",
    "                r_old = r_cur\n",
    "                break\n",
    "            else:\n",
    "                r_old = r_cur\n",
    "        return r_old\n",
    "\n",
    "    # 获取top100ID及其pagerank值\n",
    "    def get_top(self, num, nodemap, r):\n",
    "        r_index = r.argsort()[::-1][:100]\n",
    "        r.sort()\n",
    "        top_r = r[::-1][:100]\n",
    "        top_index = np.zeros(100)\n",
    "        for i in range(100):\n",
    "            top_index[i] = nodemap.index(r_index[i])\n",
    "        top_index = [int(i) for i in top_index]\n",
    "        for i in range(100):\n",
    "            print(top_index[i], top_r[i])\n",
    "        return top_index, top_r\n",
    "    \n",
    "    # 写结果\n",
    "    def write_result(self, top_index, top_r):\n",
    "        f = open('result.txt', 'w')\n",
    "        for i in range(len(top_index)):\n",
    "            f.write(str(top_index[i]) + '  ' + str(top_r[i]) + '\\n')\n",
    "        f.close()\n",
    "        return\n",
    "    \n",
    "    # 运行\n",
    "    def do_page_rank(self):\n",
    "        block_num = self.divide_data(103689) # 切分数据\n",
    "        node, max_node = self.get_Info(block_num) # Node整理 MaxNodeID\n",
    "        nodemap, r = self.preprocess(node, max_node) # 稀疏优化\n",
    "        out = self.get_out_degree(block_num, node, nodemap) # 出度\n",
    "        r_final = self.block_stripe_page_rank(block_num, node, nodemap, r, out, 0.85,1e-8) #执行PR\n",
    "        top_index, top_r = self.get_top(100, nodemap, r_final) # 输出结果\n",
    "        self.write_result(top_index, top_r) # 写文件\n",
    "\n",
    "\n",
    "if __name__ == '__main__':\n",
    "    pr = page_rank()\n",
    "    start = time.clock()\n",
    "    pr.do_page_rank()\n",
    "    end = time.clock()\n",
    "    print('time cost: ', str(end - start), 's')"
   ]
  },
  {
   "cell_type": "code",
   "execution_count": 6,
   "metadata": {},
   "outputs": [],
   "source": [
    "import numpy as np\n",
    "import time\n",
    "import psutil\n",
    "import os\n",
    "\n",
    "maxNode = 8297\n",
    "showMem = True\n",
    "\n",
    "def load_data(path):\n",
    "    f = open(path, 'r')\n",
    "    data = []\n",
    "    for line in f:\n",
    "        x, y = line.split()\n",
    "        data.append([int(x), int(y)])\n",
    "    f.close()\n",
    "    return data\n",
    "\n",
    "def data2matrix(data):\n",
    "    matrix = np.zeros((maxNode, maxNode))\n",
    "    for line in data:\n",
    "        matrix[line[1] - 1][line[0] - 1] = 1\n",
    "    return matrix\n",
    "\n",
    "def do_pagerank(matrix, outdegree, indegree, r, beta):\n",
    "    r_old = r\n",
    "    rank_time = 1\n",
    "    while np.sum(np.abs(r - r_old)) > 1e-5 or rank_time == 1:\n",
    "        r_new = np.zeros(maxNode)\n",
    "        r_old = r\n",
    "        for j in range(maxNode):\n",
    "            r_new[j] = 0\n",
    "            for i in range(maxNode):\n",
    "                if matrix[j][i] == 1:\n",
    "                    r_new[j] += beta * r_old[i] / outdegree[i]\n",
    "        if showMem:\n",
    "            process = psutil.Process(os.getpid())\n",
    "            print('Used Memory:', process.memory_info().rss / 1024 / 1024, 'MB')\n",
    "            showMem = False\n",
    "\n",
    "        S = np.sum(r_new)\n",
    "        r_old = r\n",
    "        r = r_new + (1 - S) / maxNode\n",
    "        print(np.sum(np.abs(r - r_old)))\n",
    "        rank_time += 1\n",
    "    return r\n",
    "\n",
    "\n",
    "if __name__ == '__main__':\n",
    "    start = time.clock()\n",
    "\n",
    "    data = np.array(load_data('./WikiData.txt'))\n",
    "    matrix = data2matrix(data)\n",
    "    outdegree = np.sum(matrix, axis=0)\n",
    "    indegree = np.sum(matrix, axis=1)\n",
    "    r = np.ones(maxNode) * 1 / maxNode\n",
    "    r = do_pagerank(matrix, outdegree, indegree, r, 0.85)\n",
    "\n",
    "    end = time.clock()\n",
    "\n",
    "    print(\"time cost: \", end - start, \"s\")\n",
    "\n",
    "\n",
    "    f = open(\"basic_result.txt\", \"w\")\n",
    "    w = np.argsort(-r)\n",
    "    for i in range(100):\n",
    "        f.writelines(str(w[i] + 1) + ' ' + str(r[w[i]]) + '\\n')"
   ]
  },
  {
   "cell_type": "code",
   "execution_count": null,
   "metadata": {},
   "outputs": [
    {
     "name": "stdout",
     "output_type": "stream",
     "text": [
      "0.9604148312553853\n",
      "0.2198668090874194\n",
      "0.05151991812828957\n",
      "0.012274788643562691\n",
      "0.003675034635717308\n",
      "0.0013275821089845374\n",
      "0.0005544586863873341\n",
      "0.0002591338171910082\n",
      "0.00012156962412320941\n",
      "5.951853667995937e-05\n",
      "2.8614817607663553e-05\n",
      "1.4147705061129094e-05\n",
      "6.816876693377552e-06\n",
      "0.9604148312553853\n",
      "0.2198668090874194\n",
      "0.05151991812828957\n",
      "0.012274788643562691\n",
      "0.003675034635717308\n",
      "0.0013275821089845374\n",
      "0.0005544586863873341\n",
      "0.0002591338171910082\n",
      "0.00012156962412320941\n",
      "5.951853667995937e-05\n",
      "2.8614817607663553e-05\n",
      "1.4147705061129094e-05\n",
      "6.816876693377552e-06\n",
      "0.9604148312553853\n",
      "0.2198668090874194\n",
      "0.05151991812828957\n",
      "0.012274788643562691\n",
      "0.003675034635717308\n",
      "0.0013275821089845374\n",
      "0.0005544586863873341\n"
     ]
    }
   ],
   "source": [
    "%%timeit \n",
    "data = np.array(load_data('./WikiData.txt'))\n",
    "matrix = data2matrix(data)\n",
    "outdegree = np.sum(matrix, axis=0)\n",
    "indegree = np.sum(matrix, axis=1)\n",
    "r = np.ones(maxNode) * 1 / maxNode\n",
    "r = do_pagerank(matrix, outdegree, indegree, r, 0.85)"
   ]
  },
  {
   "cell_type": "code",
   "execution_count": null,
   "metadata": {},
   "outputs": [],
   "source": []
  }
 ],
 "metadata": {
  "kernelspec": {
   "display_name": "Python 3",
   "language": "python",
   "name": "python3"
  },
  "language_info": {
   "codemirror_mode": {
    "name": "ipython",
    "version": 3
   },
   "file_extension": ".py",
   "mimetype": "text/x-python",
   "name": "python",
   "nbconvert_exporter": "python",
   "pygments_lexer": "ipython3",
   "version": "3.7.4"
  }
 },
 "nbformat": 4,
 "nbformat_minor": 2
}
